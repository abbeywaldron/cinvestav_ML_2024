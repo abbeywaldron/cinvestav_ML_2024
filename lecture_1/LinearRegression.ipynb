{
 "cells": [
  {
   "cell_type": "markdown",
   "metadata": {},
   "source": [
    "# LinearRegression  - This is a linear regregssion example using Keras\n",
    "\n",
    "    Copyright (C) 2020 Adrian Bevan, and 2023, 2024 Abbey Waldron,\n",
    "    Queen Mary University of London\n",
    "\n",
    "    This program is free software: you can redistribute it and/or modify\n",
    "    it under the terms of the GNU General Public License as published by\n",
    "    the Free Software Foundation, either version 3 of the License, or\n",
    "    (at your option) any later version.\n",
    "\n",
    "    This program is distributed in the hope that it will be useful,\n",
    "    but WITHOUT ANY WARRANTY; without even the implied warranty of\n",
    "    MERCHANTABILITY or FITNESS FOR A PARTICULAR PURPOSE.  See the\n",
    "    GNU General Public License for more details.\n",
    "\n",
    "    You should have received a copy of the GNU General Public License\n",
    "    along with this program.  If not, see <https://www.gnu.org/licenses/>.\n",
    "    \n",
    "----------------------\n",
    "\n",
    "LinearRegression example using a Keras model. This is a simple example $y = mx+c$ fitting example that uses an Adam optimiser.  For more information about this optimiser please see the original paper by Kingma and Ba, [arXiv:1412.6980](https://arxiv.org/abs/1412.6980).\n",
    "\n",
    "----------------------\n",
    "## Generating the data\n",
    "\n",
    "To generate the data we randomly sample the domain $x = [xmin, xmax]$, and the noise in this case\n",
    "is assumed to be relative to the magnitude of the signal (i.e. y value).  *Throughout the following code blocks I will leave some parts out that you need to fill in!*\n"
   ]
  },
  {
   "cell_type": "code",
   "execution_count": 1,
   "metadata": {},
   "outputs": [
    {
     "name": "stdout",
     "output_type": "stream",
     "text": [
      "\u001b[92mGenerating the parabola data set\u001b[0m\n"
     ]
    },
    {
     "ename": "TypeError",
     "evalue": "unsupported operand type(s) for *: 'ellipsis' and 'float'",
     "output_type": "error",
     "traceback": [
      "\u001b[0;31m---------------------------------------------------------------------------\u001b[0m",
      "\u001b[0;31mTypeError\u001b[0m                                 Traceback (most recent call last)",
      "Cell \u001b[0;32mIn[1], line 60\u001b[0m\n\u001b[1;32m     57\u001b[0m     \u001b[38;5;28;01mreturn\u001b[39;00m x_train, y_train, x_test, y_test\n\u001b[1;32m     59\u001b[0m \u001b[38;5;66;03m# generate data for fitting\u001b[39;00m\n\u001b[0;32m---> 60\u001b[0m x_train, y_train, x_test, y_test \u001b[38;5;241m=\u001b[39m \u001b[43mgenData\u001b[49m\u001b[43m(\u001b[49m\u001b[43mxmin\u001b[49m\u001b[43m,\u001b[49m\u001b[43m \u001b[49m\u001b[43mxmax\u001b[49m\u001b[43m,\u001b[49m\u001b[43m \u001b[49m\u001b[43mNtrain\u001b[49m\u001b[43m,\u001b[49m\u001b[43m \u001b[49m\u001b[43mNtest\u001b[49m\u001b[43m,\u001b[49m\u001b[43m \u001b[49m\u001b[43mm\u001b[49m\u001b[43m,\u001b[49m\u001b[43m \u001b[49m\u001b[43mc\u001b[49m\u001b[43m,\u001b[49m\u001b[43m \u001b[49m\u001b[43mNoise\u001b[49m\u001b[43m)\u001b[49m\n\u001b[1;32m     62\u001b[0m \u001b[38;5;28mprint\u001b[39m(\u001b[38;5;124m\"\u001b[39m\u001b[38;5;124mHave generated:\u001b[39m\u001b[38;5;124m\"\u001b[39m)\n\u001b[1;32m     63\u001b[0m \u001b[38;5;28mprint\u001b[39m(\u001b[38;5;124m\"\u001b[39m\u001b[38;5;130;01m\\t\u001b[39;00m\u001b[38;5;124mN(train) examples            = \u001b[39m\u001b[38;5;124m\"\u001b[39m, \u001b[38;5;28mlen\u001b[39m(x_train))\n",
      "Cell \u001b[0;32mIn[1], line 48\u001b[0m, in \u001b[0;36mgenData\u001b[0;34m(xmin, xmax, Ntrain, Ntest, m, c, Noise)\u001b[0m\n\u001b[1;32m     45\u001b[0m \u001b[38;5;66;03m#--------------------------------------------------------------------\u001b[39;00m\n\u001b[1;32m     47\u001b[0m \u001b[38;5;28;01mfor\u001b[39;00m i \u001b[38;5;129;01min\u001b[39;00m \u001b[38;5;28mrange\u001b[39m( Ntrain ):\n\u001b[0;32m---> 48\u001b[0m     x,y \u001b[38;5;241m=\u001b[39m \u001b[43msim_line\u001b[49m\u001b[43m(\u001b[49m\u001b[43mxmin\u001b[49m\u001b[43m,\u001b[49m\u001b[43m \u001b[49m\u001b[43mxmax\u001b[49m\u001b[43m,\u001b[49m\u001b[43m \u001b[49m\u001b[43mm\u001b[49m\u001b[43m,\u001b[49m\u001b[43m \u001b[49m\u001b[43mc\u001b[49m\u001b[43m,\u001b[49m\u001b[43m \u001b[49m\u001b[43mNoise\u001b[49m\u001b[43m)\u001b[49m\n\u001b[1;32m     49\u001b[0m     x_train\u001b[38;5;241m.\u001b[39mappend(x)\n\u001b[1;32m     50\u001b[0m     y_train\u001b[38;5;241m.\u001b[39mappend(y)\n",
      "Cell \u001b[0;32mIn[1], line 42\u001b[0m, in \u001b[0;36mgenData.<locals>.sim_line\u001b[0;34m(xmin, xmax, m, c, Noise)\u001b[0m\n\u001b[1;32m     38\u001b[0m \u001b[38;5;250m\u001b[39m\u001b[38;5;124;03m\"\"\"\u001b[39;00m\n\u001b[1;32m     39\u001b[0m \u001b[38;5;124;03mFunction to simulate a random data point for a parabola\u001b[39;00m\n\u001b[1;32m     40\u001b[0m \u001b[38;5;124;03m\"\"\"\u001b[39;00m\n\u001b[1;32m     41\u001b[0m x \u001b[38;5;241m=\u001b[39m random\u001b[38;5;241m.\u001b[39mrandom()\u001b[38;5;241m*\u001b[39m(xmax\u001b[38;5;241m-\u001b[39mxmin)\u001b[38;5;241m+\u001b[39mxmin\n\u001b[0;32m---> 42\u001b[0m y \u001b[38;5;241m=\u001b[39m (\u001b[43mm\u001b[49m\u001b[38;5;241;43m*\u001b[39;49m\u001b[43mx\u001b[49m\u001b[38;5;241m+\u001b[39mc)\u001b[38;5;241m*\u001b[39m(\u001b[38;5;241m1\u001b[39m \u001b[38;5;241m+\u001b[39m random\u001b[38;5;241m.\u001b[39mrandom()\u001b[38;5;241m*\u001b[39mNoise)\n\u001b[1;32m     44\u001b[0m \u001b[38;5;28;01mreturn\u001b[39;00m x, y\n",
      "\u001b[0;31mTypeError\u001b[0m: unsupported operand type(s) for *: 'ellipsis' and 'float'"
     ]
    }
   ],
   "source": [
    "import warnings\n",
    "warnings.filterwarnings(\"ignore\")\n",
    "import tensorflow as tf\n",
    "import matplotlib.pyplot as plt\n",
    "import random\n",
    "\n",
    "\n",
    "\"\"\"\n",
    "Generate the data to be fitted\n",
    "    xmin      Minimum value in x to sample\n",
    "    xmax      Maximum value in x to sample\n",
    "    Ntrain    Number of train data to generate\n",
    "    Ntest     Number of test data to generate\n",
    "    m         gradient for the line\n",
    "    c         constant offset\n",
    "    Noise     (fractional) Noise level to generate\n",
    "\"\"\"\n",
    "xmin   = -10\n",
    "xmax   = 10\n",
    "Ntrain = 100\n",
    "Ntest  = 100\n",
    "m      = ...\n",
    "c      = ...\n",
    "Noise  = ...\n",
    "\n",
    "def genData(xmin, xmax, Ntrain, Ntest, m, c, Noise):\n",
    "    \"\"\"\n",
    "    Function to generate an ensemble of test and train data for fitting\n",
    "    \"\"\"\n",
    "    print(\"\\033[92mGenerating the parabola data set\\033[0m\")\n",
    "    x_train = []\n",
    "    y_train = []\n",
    "    x_test  = []\n",
    "    y_test  = []\n",
    "\n",
    "    #--------------------------------------------------------------------\n",
    "    def sim_line(xmin, xmax, m, c, Noise):\n",
    "        \"\"\"\n",
    "        Function to simulate a random data point for a parabola\n",
    "        \"\"\"\n",
    "        x = random.random()*(xmax-xmin)+xmin\n",
    "        y = (m*x+c)*(1 + random.random()*Noise)\n",
    "    \n",
    "        return x, y\n",
    "    #--------------------------------------------------------------------\n",
    "  \n",
    "    for i in range( Ntrain ):\n",
    "        x,y = sim_line(xmin, xmax, m, c, Noise)\n",
    "        x_train.append(x)\n",
    "        y_train.append(y)\n",
    "\n",
    "    for i in range( Ntest ):\n",
    "        x,y = sim_line(xmin, xmax, m, c, Noise)\n",
    "        x_test.append(x)\n",
    "        y_test.append(y)\n",
    "    \n",
    "    return x_train, y_train, x_test, y_test\n",
    "\n",
    "# generate data for fitting\n",
    "x_train, y_train, x_test, y_test = genData(xmin, xmax, Ntrain, Ntest, m, c, Noise)\n",
    "\n",
    "print(\"Have generated:\")\n",
    "print(\"\\tN(train) examples            = \", len(x_train))\n",
    "print(\"\\tN(test) examples             = \", len(x_test))\n"
   ]
  },
  {
   "cell_type": "markdown",
   "metadata": {},
   "source": [
    "----------------------\n",
    "## Building the model\n",
    "\n",
    "Having generated the data we will now build a model for the optimisation problem. For this we need to make a Dense layer with a linear activation function.  If we are interested in tuning intial parameters for this model, then that can accelerate the optimisation process; but here we use the nominal values assigned when randomly initialised.\n",
    "\n",
    "The parameters of the model are a single weight and a single bias, i.e. $m$ and $c$, respectively. These parameters need to be optimised, and here we use the Mean Square Error loss function. i.e.\n",
    "\n",
    "                 $$MSE = \\frac{1}{n}\\sum\\limits_{i=1}^{n} (y_i - \\widehat{y}(x_i))$$\n",
    "\n",
    "where $\\widehat{y}$ is the linear model being fitted, and n is the number of training examples used for the optimisation."
   ]
  },
  {
   "cell_type": "code",
   "execution_count": 2,
   "metadata": {},
   "outputs": [
    {
     "name": "stdout",
     "output_type": "stream",
     "text": [
      "WARNING:tensorflow:From /Users/bevan/anaconda3/lib/python3.7/site-packages/tensorflow/python/ops/init_ops.py:1251: calling VarianceScaling.__init__ (from tensorflow.python.ops.init_ops) with dtype is deprecated and will be removed in a future version.\n",
      "Instructions for updating:\n",
      "Call initializer instance with the dtype argument instead of passing it to the constructor\n",
      "--------------------------------------------------------------------------------------------------------------\n",
      "\u001b[92mWill perform a linear regression optimisation\u001b[0m\n",
      "--------------------------------------------------------------------------------------------------------------\n",
      "\n",
      "\n",
      "Input data Linear Regression Data\n",
      "Nepochs              =  20\n",
      "learning rate        =  0.5\n",
      "Optimser             =  Adam\n",
      "Loss function        =  MSE\n",
      "Epoch 1/20\n",
      "100/100 [==============================] - 0s 1ms/sample - loss: 167.6934\n",
      "Epoch 2/20\n",
      "100/100 [==============================] - 0s 46us/sample - loss: 7.3524\n",
      "Epoch 3/20\n",
      "100/100 [==============================] - 0s 47us/sample - loss: 29.0194\n",
      "Epoch 4/20\n",
      "100/100 [==============================] - 0s 60us/sample - loss: 37.3344\n",
      "Epoch 5/20\n",
      "100/100 [==============================] - 0s 46us/sample - loss: 9.2287\n",
      "Epoch 6/20\n",
      "100/100 [==============================] - 0s 56us/sample - loss: 1.8350\n",
      "Epoch 7/20\n",
      "100/100 [==============================] - 0s 55us/sample - loss: 8.2789\n",
      "Epoch 8/20\n",
      "100/100 [==============================] - 0s 46us/sample - loss: 4.8223\n",
      "Epoch 9/20\n",
      "100/100 [==============================] - 0s 71us/sample - loss: 0.2297\n",
      "Epoch 10/20\n",
      "100/100 [==============================] - 0s 65us/sample - loss: 1.8177\n",
      "Epoch 11/20\n",
      "100/100 [==============================] - 0s 62us/sample - loss: 1.4463\n",
      "Epoch 12/20\n",
      "100/100 [==============================] - 0s 77us/sample - loss: 0.1561\n",
      "Epoch 13/20\n",
      "100/100 [==============================] - 0s 47us/sample - loss: 0.7759\n",
      "Epoch 14/20\n",
      "100/100 [==============================] - 0s 79us/sample - loss: 0.4812\n",
      "Epoch 15/20\n",
      "100/100 [==============================] - 0s 59us/sample - loss: 0.1014\n",
      "Epoch 16/20\n",
      "100/100 [==============================] - 0s 80us/sample - loss: 0.3086\n",
      "Epoch 17/20\n",
      "100/100 [==============================] - 0s 66us/sample - loss: 0.1583\n",
      "Epoch 18/20\n",
      "100/100 [==============================] - 0s 63us/sample - loss: 0.0655\n",
      "Epoch 19/20\n",
      "100/100 [==============================] - 0s 69us/sample - loss: 0.1212\n",
      "Epoch 20/20\n",
      "100/100 [==============================] - 0s 55us/sample - loss: 0.0521\n",
      "history keys =  dict_keys(['loss'])\n",
      "Display the evolution of the loss as a function of the training epoch\n",
      "  N(Epochs)                =  20\n",
      "  Initial loss (train)     = 167.6934\n",
      "  Final loss (train)       = 0.0521\n"
     ]
    }
   ],
   "source": [
    "#\n",
    "# Training configuration\n",
    "#\n",
    "Nepochs         = ... # how many epochs do you think you will need?  start small\n",
    "learning_rate   = 0.5\n",
    "\n",
    "# build the model\n",
    "model = tf.keras.models.Sequential()\n",
    "model.add( tf.keras.layers.Dense(1, activation='linear', input_shape=[1,]) )\n",
    "\n",
    "# now specify the loss function - MSE\n",
    "loss_fn = tf.keras.losses.MSE\n",
    "\n",
    "# now we can train the model to make predictions.\n",
    "#   Use the ADAM optimiser\n",
    "#   Specify the metrics to report as accuracy\n",
    "#   Specify the loss function (see above)\n",
    "# the fit step specifies the number of training epochs\n",
    "opt = tf.keras.optimizers.Adam(learning_rate=learning_rate)\n",
    "model.compile(optimizer=opt, loss=loss_fn )\n",
    "\n",
    "print(\"--------------------------------------------------------------------------------------------------------------\")\n",
    "print(\"\\033[92mWill perform a linear regression optimisation\\033[0m\")\n",
    "print(\"--------------------------------------------------------------------------------------------------------------\\n\\n\")\n",
    "print(\"Input data Linear Regression Data\")\n",
    "print(\"Nepochs              = \", Nepochs)\n",
    "print(\"learning rate        = \", learning_rate)\n",
    "print(\"Optimser             =  Adam\")\n",
    "print(\"Loss function        =  MSE\")\n",
    "\n",
    "history  = model.fit( x_train, y_train, epochs=Nepochs)\n",
    "\n",
    "# Print out the history keys, there is a single key:\n",
    "#    loss        The loss function evaluated at each epoch for the training set\n",
    "print(\"history keys = \", history.history.keys())\n",
    "\n",
    "print(\"Display the evolution of the loss as a function of the training epoch\")\n",
    "print(\"  N(Epochs)                = \", Nepochs)\n",
    "print(\"  Initial loss (train)     = {:5.4f}\".format( history.history['loss'][0]) )\n",
    "print(\"  Final loss (train)       = {:5.4f}\".format( history.history['loss'][-1]) )"
   ]
  },
  {
   "cell_type": "markdown",
   "metadata": {},
   "source": [
    "------------\n",
    "## Output\n",
    "\n",
    "For this optimisation we care about understanding the evolution of the loss function, but even when this plateaus we may find that the prediction of the model is not perfect. The ultimate goal is to be able obtain a model that fits the data well.  The optimisation process does not involve determination of uncertainties for the parameters, unlike a least squares computation where these can be solved for analyticailly."
   ]
  },
  {
   "cell_type": "code",
   "execution_count": 4,
   "metadata": {},
   "outputs": [
    {
     "name": "stdout",
     "output_type": "stream",
     "text": [
      "\n",
      "\u001b[1mPlotting the loss function evolution as a function of training epoch\u001b[0m\n",
      "\n"
     ]
    },
    {
     "data": {
      "image/png": "[encoded data removed]",
      "text/plain": [
       "<Figure size 432x288 with 1 Axes>"
      ]
     },
     "metadata": {
      "needs_background": "light"
     },
     "output_type": "display_data"
    },
    {
     "name": "stdout",
     "output_type": "stream",
     "text": [
      "\tm =  1.0636305\n",
      "\tc =  -0.0013180533\n",
      "\tMSE loss = \n",
      "\t Fitted line xrange = [-10, 10], y range = [-10.637622670270503, 10.634986563585699]\n",
      "\n",
      "\u001b[1mPlotting the optimised model and test data\u001b[0m\n",
      "\n"
     ]
    },
    {
     "data": {
      "image/png": "[encoded data removed]",
      "text/plain": [
       "<Figure size 432x288 with 1 Axes>"
      ]
     },
     "metadata": {
      "needs_background": "light"
     },
     "output_type": "display_data"
    }
   ],
   "source": [
    "# summarize history for loss\n",
    "print(\"\\n\\033[1mPlotting the loss function evolution as a function of training epoch\\033[0m\\n\")\n",
    "plt.plot(...) # plot the 'loss' from history.history\n",
    "plt.title('model loss')\n",
    "plt.ylabel('loss')\n",
    "plt.xlabel('epoch')\n",
    "plt.yscale('log')\n",
    "plt.show()\n",
    "plt.clf()\n",
    "\n",
    "# plot the model for the data\n",
    "# we are interested in the first layer\n",
    "layer = model.layers[0]\n",
    "weights, biases = layer.get_weights()\n",
    "ymin = weights[0][0]*xmin+biases[0]\n",
    "ymax = weights[0][0]*xmax+biases[0]\n",
    "\n",
    "print(\"\\tm = \", weights[0][0])\n",
    "print(\"\\tc = \", biases[0])\n",
    "print(\"\\tMSE loss = \".format( history.history['loss'][-1]) )\n",
    "print(\"\\t Fitted line xrange = {:}, y range = {:}\".format([xmin, xmax], [ymin, ymax]))\n",
    "\n",
    "print(\"\\n\\033[1mPlotting the optimised model and test data\\033[0m\\n\")\n",
    "plt.plot(..., ..., \"r.\") # plot the test data set (x_test, y_test)\n",
    "plt.plot([xmin, xmax], [ymin, ymax], \"b-\")  # plot the fitted line\n",
    "plt.ylabel('y')\n",
    "plt.xlabel('x')\n",
    "plt.legend([\"test data\", \"fitted model\"], loc=0)\n",
    "plt.show()\n"
   ]
  },
  {
   "cell_type": "markdown",
   "metadata": {},
   "source": [
    "----------------------\n",
    "## Suggested exercises:\n",
    "\n",
    " - Change the number of training examples to see how this affects the optimisation performance (increase by a factor of 10 and decrease by a factor of 10).\n",
    " - Change the value of m and c to extract, Try $m=10$, $c=5$, to explore how this affects the training.  You may also need to change the number of epochs when doing this.\n",
    " - Change the number of training epochs to see how this affects the optimisation\n",
    " - Change the noise level to study how this affects the optimisation.\n",
    " - Change the learning rate to explore how robust the training is with the Adam optmiser.\n",
    " - You may also wish to explore the use of other optmisers: see https://keras.io/api/optimizers/."
   ]
  },
  {
   "cell_type": "code",
   "execution_count": null,
   "metadata": {},
   "outputs": [],
   "source": []
  }
 ],
 "metadata": {
  "kernelspec": {
   "display_name": "Python 3 (ipykernel)",
   "language": "python",
   "name": "python3"
  },
  "language_info": {
   "codemirror_mode": {
    "name": "ipython",
    "version": 3
   },
   "file_extension": ".py",
   "mimetype": "text/x-python",
   "name": "python",
   "nbconvert_exporter": "python",
   "pygments_lexer": "ipython3",
   "version": "3.9.15"
  }
 },
 "nbformat": 4,
 "nbformat_minor": 4
}
